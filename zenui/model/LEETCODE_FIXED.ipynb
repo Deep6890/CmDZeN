{
 "cells": [
  {
   "cell_type": "code",
   "execution_count": null,
   "metadata": {},
   "outputs": [],
   "source": [
    "import pandas as pd\n",
    "\n",
    "# Load dataset\n",
    "df = pd.read_csv(\"leetcode_questions.csv\")\n",
    "\n",
    "# Check available columns\n",
    "print(\"Available columns:\", df.columns.tolist())\n",
    "print(\"Dataset shape:\", df.shape)\n",
    "\n",
    "# Create complexity from AcceptanceRate (lower acceptance = higher complexity)\n",
    "df['Complexity'] = 100 - df['AcceptanceRate']\n",
    "\n",
    "# Show topics from Topics column\n",
    "topics = df['Topics'].str.split(', ').explode().unique()\n",
    "print(\"\\nAvailable topics:\")\n",
    "for i, topic in enumerate(topics[:10], 1):  # Show first 10 topics\n",
    "    print(f\"{i}. {topic}\")"
   ]
  },
  {
   "cell_type": "code",
   "execution_count": null,
   "metadata": {},
   "outputs": [],
   "source": [
    "# Adaptive system\n",
    "class AdaptiveLeetCode:\n",
    "    def __init__(self, dataframe):\n",
    "        self.df = dataframe\n",
    "        self.level = 50\n",
    "        self.asked = set()\n",
    "        self.correct = 0\n",
    "        self.total = 0\n",
    "        \n",
    "    def get_question(self):\n",
    "        available = self.df[~self.df.index.isin(self.asked)]\n",
    "        if available.empty:\n",
    "            return None\n",
    "        suitable = available[\n",
    "            (available['Complexity'] >= self.level - 15) & \n",
    "            (available['Complexity'] <= self.level + 15)\n",
    "        ]\n",
    "        if suitable.empty:\n",
    "            suitable = available\n",
    "        return suitable.sample(n=1).iloc[0]\n",
    "    \n",
    "    def answer(self, correct):\n",
    "        self.total += 1\n",
    "        if correct:\n",
    "            self.correct += 1\n",
    "            self.level = min(100, self.level + 8)\n",
    "        else:\n",
    "            self.level = max(10, self.level - 12)\n",
    "    \n",
    "    def stats(self):\n",
    "        accuracy = (self.correct / max(1, self.total)) * 100\n",
    "        return self.level, accuracy, self.correct, self.total"
   ]
  },
  {
   "cell_type": "code",
   "execution_count": null,
   "metadata": {},
   "outputs": [],
   "source": [
    "# Run session\n",
    "system = AdaptiveLeetCode(df)\n",
    "print(f\"Starting level: {system.level}\")\n",
    "\n",
    "for i in range(1, 6):\n",
    "    q = system.get_question()\n",
    "    if q is None:\n",
    "        break\n",
    "    \n",
    "    system.asked.add(q.name)\n",
    "    \n",
    "    print(f\"\\nQ{i}: {q['Title']}\")\n",
    "    print(f\"Difficulty: {q['Difficulty']}\")\n",
    "    print(f\"Topics: {q['Topics']}\")\n",
    "    print(f\"Complexity: {q['Complexity']:.1f}%\")\n",
    "    \n",
    "    ans = input(\"Solved correctly? (y/n): \").lower() == 'y'\n",
    "    system.answer(ans)\n",
    "    \n",
    "    level, acc, correct, total = system.stats()\n",
    "    print(f\"Level: {level:.1f}, Accuracy: {acc:.1f}%\")\n",
    "\n",
    "print(f\"\\nFinal: Level {system.level:.1f}, {system.correct}/{system.total} correct\")"
   ]
  }
 ],
 "metadata": {
  "kernelspec": {
   "display_name": "Python 3",
   "language": "python",
   "name": "python3"
  },
  "language_info": {
   "name": "python",
   "version": "3.8.5"
  }
 },
 "nbformat": 4,
 "nbformat_minor": 4
}